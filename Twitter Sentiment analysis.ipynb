{
 "cells": [
  {
   "cell_type": "markdown",
   "metadata": {
    "id": "xNdTFUOmBWM0"
   },
   "source": [
    "# Twitter Pulse Checker"
   ]
  },
  {
   "cell_type": "markdown",
   "metadata": {
    "id": "7x39hXNFaJ4Q"
   },
   "source": [
    "![preview](https://cdn.pixabay.com/photo/2013/06/07/09/53/twitter-117595_960_720.png)"
   ]
  },
  {
   "cell_type": "code",
   "execution_count": null,
   "metadata": {
    "id": "2pVYlXanlfmb"
   },
   "outputs": [],
   "source": [
    "#Connecting to dataset\n",
    "from google.colab import drive\n",
    "drive.mount('/content/drive')"
   ]
  },
  {
   "cell_type": "code",
   "execution_count": null,
   "metadata": {
    "id": "TGc4FbSqCJDg"
   },
   "outputs": [],
   "source": [
    "# import lots of stuff\n",
    "import sys\n",
    "import os\n",
    "import re\n",
    "import tweepy\n",
    "# import BERT\n",
    "from tweepy import OAuthHandler\n",
    "from textblob import TextBlob\n",
    "\n",
    "import numpy as np\n",
    "import pandas as pd\n",
    "from datetime import datetime, timedelta\n",
    "from IPython.display import clear_output\n",
    "from tqdm import tqdm\n",
    "\n",
    "import matplotlib.pyplot as plt\n",
    "import seaborn as sns\n",
    "% matplotlib inline\n",
    "\n",
    "from os import path\n",
    "from PIL import Image\n",
    "from wordcloud import WordCloud, STOPWORDS"
   ]
  },
  {
   "cell_type": "code",
   "execution_count": null,
   "metadata": {
    "id": "2YaIwapFC7Yi"
   },
   "outputs": [],
   "source": [
    "# install Flair\n",
    "!pip install --upgrade git+https://github.com/flairNLP/flair.git\n",
    "\n",
    "clear_output()"
   ]
  },
  {
   "cell_type": "code",
   "execution_count": null,
   "metadata": {
    "id": "CN7bPwceC77g"
   },
   "outputs": [],
   "source": [
    "# import Flair stuff\n",
    "from flair.data import Sentence\n",
    "from flair.models import SequenceTagger\n",
    "\n",
    "tagger = SequenceTagger.load('ner')\n",
    "\n",
    "clear_output()"
   ]
  },
  {
   "cell_type": "code",
   "execution_count": null,
   "metadata": {
    "id": "LhUwHI1zDDs_"
   },
   "outputs": [],
   "source": [
    "#import Flair Classifier\n",
    "from flair.models import TextClassifier\n",
    "\n",
    "classifier = TextClassifier.load('en-sentiment')\n",
    "\n",
    "clear_output()"
   ]
  },
  {
   "cell_type": "markdown",
   "metadata": {
    "id": "LPfBYe-zqxme"
   },
   "source": [
    "### Authenticate with Twitter API"
   ]
  },
  {
   "cell_type": "code",
   "execution_count": null,
   "metadata": {
    "cellView": "form",
    "id": "D82o9BhxA0tq"
   },
   "outputs": [],
   "source": [
    "#@title Enter Twitter Credentials\n",
    "TWITTER_KEY = '87gqIlmDpPVS3OJMoEYsMiNYU' #@param {type:\"string\"}\n",
    "TWITTER_SECRET_KEY = '4wjZYPW9P7WM74Aq1gpd6v5ylKvdqWpSh2mCDsInH5OkfxK43e' #@param {type:\"string\"}"
   ]
  },
  {
   "cell_type": "code",
   "execution_count": null,
   "metadata": {
    "id": "MOxCv5dKBkVz"
   },
   "outputs": [],
   "source": [
    "# Authenticate\n",
    "auth = tweepy.AppAuthHandler(TWITTER_KEY, TWITTER_SECRET_KEY)\n",
    "\n",
    "api = tweepy.API(auth, wait_on_rate_limit=True,\n",
    "\t\t\t\t   wait_on_rate_limit_notify=True)\n",
    "\n",
    "if (not api):\n",
    "    print (\"Can't Authenticate\")\n",
    "    sys.exit(-1)\n"
   ]
  },
  {
   "cell_type": "markdown",
   "metadata": {
    "id": "_0rweWLHXo1v"
   },
   "source": [
    "###Lets start scraping!"
   ]
  },
  {
   "cell_type": "markdown",
   "metadata": {
    "id": "T8oyLAkVYp4k"
   },
   "source": [
    "The Twitter scrape code here was taken from: https://bhaskarvk.github.io/2015/01/how-to-use-twitters-search-rest-api-most-effectively.\n",
    "\n",
    "My thanks to the author.\n",
    "\n",
    "We need to provide a Search term and a Max Tweet count. Twitter lets you to request 45,000 tweets every 15 minutes  so setting something below that works."
   ]
  },
  {
   "cell_type": "code",
   "execution_count": null,
   "metadata": {
    "colab": {
     "base_uri": "https://localhost:8080/"
    },
    "id": "As_PRtb-Bklo",
    "outputId": "c40d5642-f3f3-463a-8626-c28621b85f99"
   },
   "outputs": [
    {
     "name": "stdout",
     "output_type": "stream",
     "text": [
      "Downloaded 1300 tweets\n"
     ]
    }
   ],
   "source": [
    "#@title Twitter Search API Inputs\n",
    "#@markdown ### Enter Search Query:\n",
    "searchQuery = 'Petrol' #@param {type:\"string\"}\n",
    "#@markdown ### Enter Max Tweets To Scrape:\n",
    "#@markdown #### The Twitter API Rate Limit (currently) is 45,000 tweets every 15 minutes.\n",
    "maxTweets = 21800 #@param {type:\"slider\", min:0, max:45000, step:100}\n",
    "Filter_Retweets = False #@param {type:\"boolean\"}\n",
    "\n",
    "tweetsPerQry = 100  # this is the max the API permits\n",
    "tweet_lst = []\n",
    "\n",
    "if Filter_Retweets:\n",
    "  searchQuery = searchQuery + ' -filter:retweets'  # to exclude retweets\n",
    "\n",
    "# If results from a specific ID onwards are reqd, set since_id to that ID.\n",
    "# else default to no lower limit, go as far back as API allows\n",
    "sinceId = None\n",
    "\n",
    "# If results only below a specific ID are, set max_id to that ID.\n",
    "# else default to no upper limit, start from the most recent tweet matching the search query.\n",
    "max_id = -10000000000\n",
    "\n",
    "tweetCount = 0\n",
    "print(\"Downloading max {0} tweets\".format(maxTweets))\n",
    "while tweetCount < maxTweets:\n",
    "    try:\n",
    "        if (max_id <= 0):\n",
    "            if (not sinceId):\n",
    "                new_tweets = api.search(q=searchQuery, count=tweetsPerQry, lang=\"en\")\n",
    "            else:\n",
    "                new_tweets = api.search(q=searchQuery, count=tweetsPerQry,\n",
    "                                        lang=\"en\", since_id=sinceId)\n",
    "        else:\n",
    "            if (not sinceId):\n",
    "                new_tweets = api.search(q=searchQuery, count=tweetsPerQry,\n",
    "                                        lang=\"en\", max_id=str(max_id - 1))\n",
    "            else:\n",
    "                new_tweets = api.search(q=searchQuery, count=tweetsPerQry,\n",
    "                                        lang=\"en\", max_id=str(max_id - 1),\n",
    "                                        since_id=sinceId)\n",
    "        if not new_tweets:\n",
    "            print(\"No more tweets found\")\n",
    "            break\n",
    "        for tweet in new_tweets:\n",
    "          if hasattr(tweet, 'reply_count'):\n",
    "            reply_count = tweet.reply_count\n",
    "          else:\n",
    "            reply_count = 0\n",
    "          if hasattr(tweet, 'retweeted'):\n",
    "            retweeted = tweet.retweeted\n",
    "          else:\n",
    "            retweeted = \"NA\"\n",
    "            \n",
    "          # fixup search query to get topic\n",
    "          topic = searchQuery[:searchQuery.find('-')].capitalize().strip()\n",
    "          \n",
    "          # fixup date\n",
    "          tweetDate = tweet.created_at.date()\n",
    "          \n",
    "          tweet_lst.append([tweetDate, topic, \n",
    "                      tweet.id, tweet.user.screen_name, tweet.user.name, tweet.text, tweet.favorite_count, \n",
    "                      reply_count, tweet.retweet_count, retweeted])\n",
    "\n",
    "        tweetCount += len(new_tweets)\n",
    "        print(\"Downloaded {0} tweets\".format(tweetCount))\n",
    "        max_id = new_tweets[-1].id\n",
    "    except tweepy.TweepError as e:\n",
    "        # Just exit if any error\n",
    "        print(\"some error : \" + str(e))\n",
    "        break\n",
    "\n",
    "clear_output()\n",
    "print(\"Downloaded {0} tweets\".format(tweetCount))"
   ]
  },
  {
   "cell_type": "markdown",
   "metadata": {
    "id": "UVsHZlEroRQY"
   },
   "source": [
    "##Data Sciencing"
   ]
  },
  {
   "cell_type": "markdown",
   "metadata": {
    "id": "CC0Lz66Jn48L"
   },
   "source": [
    "Let's load the tweet data into a Pandas Dataframe so we can do Data Science to it. \n",
    "\n",
    "The data is also saved down in a tweets.csv file in case you want to download it."
   ]
  },
  {
   "cell_type": "code",
   "execution_count": null,
   "metadata": {
    "colab": {
     "base_uri": "https://localhost:8080/",
     "height": 400
    },
    "id": "Bu7qN8q6Bkn9",
    "outputId": "6748802d-2591-4681-f185-e7ed90270b65"
   },
   "outputs": [
    {
     "name": "stderr",
     "output_type": "stream",
     "text": [
      "/usr/local/lib/python3.7/dist-packages/ipykernel_launcher.py:1: FutureWarning: Passing a negative integer is deprecated in version 1.0 and will not be supported in future version. Instead, use None to not limit the column width.\n",
      "  \"\"\"Entry point for launching an IPython kernel.\n"
     ]
    },
    {
     "data": {
      "text/html": [
       "<div>\n",
       "<style scoped>\n",
       "    .dataframe tbody tr th:only-of-type {\n",
       "        vertical-align: middle;\n",
       "    }\n",
       "\n",
       "    .dataframe tbody tr th {\n",
       "        vertical-align: top;\n",
       "    }\n",
       "\n",
       "    .dataframe thead th {\n",
       "        text-align: right;\n",
       "    }\n",
       "</style>\n",
       "<table border=\"1\" class=\"dataframe\">\n",
       "  <thead>\n",
       "    <tr style=\"text-align: right;\">\n",
       "      <th></th>\n",
       "      <th>tweet_dt</th>\n",
       "      <th>topic</th>\n",
       "      <th>id</th>\n",
       "      <th>username</th>\n",
       "      <th>name</th>\n",
       "      <th>tweet</th>\n",
       "      <th>like_count</th>\n",
       "      <th>reply_count</th>\n",
       "      <th>retweet_count</th>\n",
       "      <th>retweeted</th>\n",
       "    </tr>\n",
       "  </thead>\n",
       "  <tbody>\n",
       "    <tr>\n",
       "      <th>0</th>\n",
       "      <td>2021-03-08</td>\n",
       "      <td>Petrol</td>\n",
       "      <td>1368803101378048001</td>\n",
       "      <td>YootDigmeMusic</td>\n",
       "      <td>Yoot Digme 🌈</td>\n",
       "      <td>@Ben_Geman @JigarShahDC 6/ you must say 25% is a win:\\n\\nbattery production times costly than digging for oil.\\n\\nfor 5… https://t.co/rz0WyOcBk9</td>\n",
       "      <td>0</td>\n",
       "      <td>0</td>\n",
       "      <td>0</td>\n",
       "      <td>False</td>\n",
       "    </tr>\n",
       "    <tr>\n",
       "      <th>1</th>\n",
       "      <td>2021-03-08</td>\n",
       "      <td>Petrol</td>\n",
       "      <td>1368803070742790146</td>\n",
       "      <td>YootDigmeMusic</td>\n",
       "      <td>Yoot Digme 🌈</td>\n",
       "      <td>@Ben_Geman @JigarShahDC 5/ (!) 128g CO2 EV &amp;gt; 120g CO2 petrol car\\n\\nBattery for EV is from lithium, nickel, cobalt, i… https://t.co/iO1uwYZRC0</td>\n",
       "      <td>0</td>\n",
       "      <td>0</td>\n",
       "      <td>0</td>\n",
       "      <td>False</td>\n",
       "    </tr>\n",
       "    <tr>\n",
       "      <th>2</th>\n",
       "      <td>2021-03-08</td>\n",
       "      <td>Petrol</td>\n",
       "      <td>1368803043026886664</td>\n",
       "      <td>YootDigmeMusic</td>\n",
       "      <td>Yoot Digme 🌈</td>\n",
       "      <td>@Ben_Geman @JigarShahDC 4/ The numbers of CO2 for electric cars (EVs)\\n\\nSummary:\\n\\nPetrol car = 120g CO2/km\\n\\nEV = 0.2… https://t.co/HjL3fegULR</td>\n",
       "      <td>0</td>\n",
       "      <td>0</td>\n",
       "      <td>0</td>\n",
       "      <td>False</td>\n",
       "    </tr>\n",
       "    <tr>\n",
       "      <th>3</th>\n",
       "      <td>2021-03-08</td>\n",
       "      <td>Petrol</td>\n",
       "      <td>1368802947413475331</td>\n",
       "      <td>YootDigmeMusic</td>\n",
       "      <td>Yoot Digme 🌈</td>\n",
       "      <td>@Ben_Geman @JigarShahDC 1/ There’s an illusion that you decarbonize with EV, why?\\n\\nCalifornia - 225g CO2 /kWh avera… https://t.co/piWYAIleQW</td>\n",
       "      <td>0</td>\n",
       "      <td>0</td>\n",
       "      <td>0</td>\n",
       "      <td>False</td>\n",
       "    </tr>\n",
       "    <tr>\n",
       "      <th>4</th>\n",
       "      <td>2021-03-08</td>\n",
       "      <td>Petrol</td>\n",
       "      <td>1368802863359664132</td>\n",
       "      <td>alaudin_osman</td>\n",
       "      <td>Alaudin Osman</td>\n",
       "      <td>Answers sought for The Conversation @CapitalFMMw\\nWhy are convoys of our president and Vice President driven so fast… https://t.co/GiNAQAdXsb</td>\n",
       "      <td>0</td>\n",
       "      <td>0</td>\n",
       "      <td>0</td>\n",
       "      <td>False</td>\n",
       "    </tr>\n",
       "  </tbody>\n",
       "</table>\n",
       "</div>"
      ],
      "text/plain": [
       "     tweet_dt   topic  ...  retweet_count retweeted\n",
       "0  2021-03-08  Petrol  ...  0              False   \n",
       "1  2021-03-08  Petrol  ...  0              False   \n",
       "2  2021-03-08  Petrol  ...  0              False   \n",
       "3  2021-03-08  Petrol  ...  0              False   \n",
       "4  2021-03-08  Petrol  ...  0              False   \n",
       "\n",
       "[5 rows x 10 columns]"
      ]
     },
     "execution_count": 12,
     "metadata": {
      "tags": []
     },
     "output_type": "execute_result"
    }
   ],
   "source": [
    "pd.set_option('display.max_colwidth', -1)\n",
    "\n",
    "# load it into a pandas dataframe\n",
    "tweet_df = pd.DataFrame(tweet_lst, columns=['tweet_dt', 'topic', 'id', 'username', 'name', 'tweet', 'like_count', 'reply_count', 'retweet_count', 'retweeted'])\n",
    "tweet_df.to_csv('tweets.csv')\n",
    "tweet_df.head()"
   ]
  },
  {
   "cell_type": "markdown",
   "metadata": {
    "id": "9lJ8UlW3ZIsH"
   },
   "source": [
    "Unfortunately Twitter does not let you filter by date when you request tweets. However, we can do this at this stage. I have set it up to pull yesterday + todays Tweets by default."
   ]
  },
  {
   "cell_type": "code",
   "execution_count": null,
   "metadata": {
    "colab": {
     "base_uri": "https://localhost:8080/"
    },
    "id": "pf_cZXTHBkqC",
    "outputId": "c0a9e477-071f-4fa1-b4c8-05087ecf4a8f"
   },
   "outputs": [
    {
     "data": {
      "text/plain": [
       "(1300, 10)"
      ]
     },
     "execution_count": 14,
     "metadata": {
      "tags": []
     },
     "output_type": "execute_result"
    }
   ],
   "source": [
    "#@title Filter By Date Range\n",
    "today = datetime.now().date()\n",
    "yesterday = today - timedelta(1)\n",
    "\n",
    "start_dt = '2021-03-29' #@param {type:\"date\"}\n",
    "end_dt = '2021-03-11' #@param {type:\"date\"}\n",
    "\n",
    "if start_dt == '':\n",
    "  start_dt = yesterday\n",
    "else:\n",
    "  start_dt = datetime.strptime(start_dt, '%Y-%m-%d').date()\n",
    "\n",
    "if end_dt == '':\n",
    "  end_dt = today\n",
    "else:\n",
    "  end_dt = datetime.strptime(end_dt, '%Y-%m-%d').date()\n",
    "\n",
    "\n",
    "tweet_df = tweet_df[(tweet_df['tweet_dt'] >= start_dt) \n",
    "                    & (tweet_df['tweet_dt'] <= end_dt)]\n",
    "tweet_df.shape"
   ]
  },
  {
   "cell_type": "markdown",
   "metadata": {
    "id": "fC-cQNXwafbt"
   },
   "source": [
    "## NER and Sentiment Analysis\n",
    "\n",
    "Now let's do some NER / Sentiment Analysis. We will use the Flair library: https://github.com/zalandoresearch/flair\n",
    "\n",
    "###NER\n",
    "\n",
    "Previosuly, we extracted, and then appended the Tags as separate rows in our dataframe. This helps us later on to Group by Tags.\n",
    "\n",
    "We also create a new 'Hashtag' Tag as Flair does not recognize it and it's a big one in this context.\n",
    "\n",
    "### Sentiment Analysis\n",
    "\n",
    "We use the Flair Classifier to get Polarity and Result and add those fields to our dataframe.\n",
    "\n",
    "**Warning:** This can be slow if you have lots of tweets."
   ]
  },
  {
   "cell_type": "code",
   "execution_count": null,
   "metadata": {
    "id": "AOKbfZlzBksW"
   },
   "outputs": [],
   "source": [
    "# predict NER\n",
    "nerlst = []\n",
    "\n",
    "for index, row in tqdm(tweet_df.iterrows(), total=tweet_df.shape[0]):\n",
    "  cleanedTweet = row['tweet'].replace(\"#\", \"\")\n",
    "  sentence = Sentence(cleanedTweet, use_tokenizer=True)\n",
    "  \n",
    "  # predict NER tags\n",
    "  tagger.predict(sentence)\n",
    "\n",
    "  # get ner\n",
    "  ners = sentence.to_dict(tag_type='ner')['entities']\n",
    "  \n",
    "  # predict sentiment\n",
    "  classifier.predict(sentence)\n",
    "  \n",
    "  label = sentence.labels[0]\n",
    "  response = {'result': label.value, 'polarity':label.score}\n",
    "  \n",
    "  # get hashtags\n",
    "  hashtags = re.findall(r'#\\w+', row['tweet'])\n",
    "  if len(hashtags) >= 1:\n",
    "    for hashtag in hashtags:\n",
    "      ners.append({ 'type': 'Hashtag', 'text': hashtag })\n",
    "  \n",
    "  for ner in ners:\n",
    "    adj_polarity = response['polarity']\n",
    "    if response['result'] == 'NEGATIVE':\n",
    "      adj_polarity = response['polarity'] * -1\n",
    "    try:\n",
    "      ner['type']\n",
    "    except:\n",
    "      ner['type'] = ''      \n",
    "    nerlst.append([ row['tweet_dt'], row['topic'], row['id'], row['username'], \n",
    "                   row['name'], row['tweet'], ner['type'], ner['text'], response['result'], \n",
    "                   response['polarity'], adj_polarity, row['like_count'], row['reply_count'], \n",
    "                  row['retweet_count'] ])\n",
    "\n",
    "clear_output()"
   ]
  },
  {
   "cell_type": "code",
   "execution_count": null,
   "metadata": {
    "colab": {
     "base_uri": "https://localhost:8080/",
     "height": 1000
    },
    "id": "VfZVjXldBkuc",
    "outputId": "998da9c3-b6e1-4bd5-f9c0-c811db46d701"
   },
   "outputs": [
    {
     "data": {
      "text/html": [
       "<div>\n",
       "<style scoped>\n",
       "    .dataframe tbody tr th:only-of-type {\n",
       "        vertical-align: middle;\n",
       "    }\n",
       "\n",
       "    .dataframe tbody tr th {\n",
       "        vertical-align: top;\n",
       "    }\n",
       "\n",
       "    .dataframe thead th {\n",
       "        text-align: right;\n",
       "    }\n",
       "</style>\n",
       "<table border=\"1\" class=\"dataframe\">\n",
       "  <thead>\n",
       "    <tr style=\"text-align: right;\">\n",
       "      <th></th>\n",
       "      <th>tweet_dt</th>\n",
       "      <th>topic</th>\n",
       "      <th>id</th>\n",
       "      <th>username</th>\n",
       "      <th>name</th>\n",
       "      <th>tweet</th>\n",
       "      <th>tag_type</th>\n",
       "      <th>tag</th>\n",
       "      <th>sentiment</th>\n",
       "      <th>polarity</th>\n",
       "      <th>adj_polarity</th>\n",
       "      <th>like_count</th>\n",
       "      <th>reply_count</th>\n",
       "      <th>retweet_count</th>\n",
       "    </tr>\n",
       "  </thead>\n",
       "  <tbody>\n",
       "    <tr>\n",
       "      <th>0</th>\n",
       "      <td>2021-03-08</td>\n",
       "      <td>Petrol</td>\n",
       "      <td>1368803101378048001</td>\n",
       "      <td>YootDigmeMusic</td>\n",
       "      <td>Yoot Digme 🌈</td>\n",
       "      <td>@Ben_Geman @JigarShahDC 6/ you must say 25% is a win:\\n\\nbattery production times costly than digging for oil.\\n\\nfor 5… https://t.co/rz0WyOcBk9</td>\n",
       "      <td></td>\n",
       "      <td>Geman</td>\n",
       "      <td>POSITIVE</td>\n",
       "      <td>0.926951</td>\n",
       "      <td>0.926951</td>\n",
       "      <td>0</td>\n",
       "      <td>0</td>\n",
       "      <td>0</td>\n",
       "    </tr>\n",
       "    <tr>\n",
       "      <th>1</th>\n",
       "      <td>2021-03-08</td>\n",
       "      <td>Petrol</td>\n",
       "      <td>1368803101378048001</td>\n",
       "      <td>YootDigmeMusic</td>\n",
       "      <td>Yoot Digme 🌈</td>\n",
       "      <td>@Ben_Geman @JigarShahDC 6/ you must say 25% is a win:\\n\\nbattery production times costly than digging for oil.\\n\\nfor 5… https://t.co/rz0WyOcBk9</td>\n",
       "      <td></td>\n",
       "      <td>JigarShahDC</td>\n",
       "      <td>POSITIVE</td>\n",
       "      <td>0.926951</td>\n",
       "      <td>0.926951</td>\n",
       "      <td>0</td>\n",
       "      <td>0</td>\n",
       "      <td>0</td>\n",
       "    </tr>\n",
       "    <tr>\n",
       "      <th>2</th>\n",
       "      <td>2021-03-08</td>\n",
       "      <td>Petrol</td>\n",
       "      <td>1368803070742790146</td>\n",
       "      <td>YootDigmeMusic</td>\n",
       "      <td>Yoot Digme 🌈</td>\n",
       "      <td>@Ben_Geman @JigarShahDC 5/ (!) 128g CO2 EV &amp;gt; 120g CO2 petrol car\\n\\nBattery for EV is from lithium, nickel, cobalt, i… https://t.co/iO1uwYZRC0</td>\n",
       "      <td></td>\n",
       "      <td>Geman</td>\n",
       "      <td>POSITIVE</td>\n",
       "      <td>0.829397</td>\n",
       "      <td>0.829397</td>\n",
       "      <td>0</td>\n",
       "      <td>0</td>\n",
       "      <td>0</td>\n",
       "    </tr>\n",
       "    <tr>\n",
       "      <th>3</th>\n",
       "      <td>2021-03-08</td>\n",
       "      <td>Petrol</td>\n",
       "      <td>1368803070742790146</td>\n",
       "      <td>YootDigmeMusic</td>\n",
       "      <td>Yoot Digme 🌈</td>\n",
       "      <td>@Ben_Geman @JigarShahDC 5/ (!) 128g CO2 EV &amp;gt; 120g CO2 petrol car\\n\\nBattery for EV is from lithium, nickel, cobalt, i… https://t.co/iO1uwYZRC0</td>\n",
       "      <td></td>\n",
       "      <td>JigarShahDC</td>\n",
       "      <td>POSITIVE</td>\n",
       "      <td>0.829397</td>\n",
       "      <td>0.829397</td>\n",
       "      <td>0</td>\n",
       "      <td>0</td>\n",
       "      <td>0</td>\n",
       "    </tr>\n",
       "    <tr>\n",
       "      <th>4</th>\n",
       "      <td>2021-03-08</td>\n",
       "      <td>Petrol</td>\n",
       "      <td>1368803043026886664</td>\n",
       "      <td>YootDigmeMusic</td>\n",
       "      <td>Yoot Digme 🌈</td>\n",
       "      <td>@Ben_Geman @JigarShahDC 4/ The numbers of CO2 for electric cars (EVs)\\n\\nSummary:\\n\\nPetrol car = 120g CO2/km\\n\\nEV = 0.2… https://t.co/HjL3fegULR</td>\n",
       "      <td></td>\n",
       "      <td>Geman</td>\n",
       "      <td>NEGATIVE</td>\n",
       "      <td>0.982261</td>\n",
       "      <td>-0.982261</td>\n",
       "      <td>0</td>\n",
       "      <td>0</td>\n",
       "      <td>0</td>\n",
       "    </tr>\n",
       "    <tr>\n",
       "      <th>...</th>\n",
       "      <td>...</td>\n",
       "      <td>...</td>\n",
       "      <td>...</td>\n",
       "      <td>...</td>\n",
       "      <td>...</td>\n",
       "      <td>...</td>\n",
       "      <td>...</td>\n",
       "      <td>...</td>\n",
       "      <td>...</td>\n",
       "      <td>...</td>\n",
       "      <td>...</td>\n",
       "      <td>...</td>\n",
       "      <td>...</td>\n",
       "      <td>...</td>\n",
       "    </tr>\n",
       "    <tr>\n",
       "      <th>1123</th>\n",
       "      <td>2021-03-07</td>\n",
       "      <td>Petrol</td>\n",
       "      <td>1368614059071913988</td>\n",
       "      <td>AtifAbKarim1</td>\n",
       "      <td>AtifAbKarim1</td>\n",
       "      <td>@Purupurea_u 3rd Feb 2020.\\n\\nMuhammad Qasim saw that Imran Khan asks the people of Pakistan to adopt simplicity amon… https://t.co/zfnASepzmx</td>\n",
       "      <td></td>\n",
       "      <td>Imran Khan</td>\n",
       "      <td>NEGATIVE</td>\n",
       "      <td>0.591955</td>\n",
       "      <td>-0.591955</td>\n",
       "      <td>0</td>\n",
       "      <td>0</td>\n",
       "      <td>0</td>\n",
       "    </tr>\n",
       "    <tr>\n",
       "      <th>1124</th>\n",
       "      <td>2021-03-07</td>\n",
       "      <td>Petrol</td>\n",
       "      <td>1368614059071913988</td>\n",
       "      <td>AtifAbKarim1</td>\n",
       "      <td>AtifAbKarim1</td>\n",
       "      <td>@Purupurea_u 3rd Feb 2020.\\n\\nMuhammad Qasim saw that Imran Khan asks the people of Pakistan to adopt simplicity amon… https://t.co/zfnASepzmx</td>\n",
       "      <td></td>\n",
       "      <td>Pakistan</td>\n",
       "      <td>NEGATIVE</td>\n",
       "      <td>0.591955</td>\n",
       "      <td>-0.591955</td>\n",
       "      <td>0</td>\n",
       "      <td>0</td>\n",
       "      <td>0</td>\n",
       "    </tr>\n",
       "    <tr>\n",
       "      <th>1125</th>\n",
       "      <td>2021-03-07</td>\n",
       "      <td>Petrol</td>\n",
       "      <td>1368613968323866626</td>\n",
       "      <td>sultankhan55786</td>\n",
       "      <td>Sultan khan</td>\n",
       "      <td>Corona, unemployment, economic recession, price of petrol, price of gas and #FarmersProtests .... In the eyes of Mo… https://t.co/quaXDI3waJ</td>\n",
       "      <td></td>\n",
       "      <td>Corona</td>\n",
       "      <td>NEGATIVE</td>\n",
       "      <td>0.856710</td>\n",
       "      <td>-0.856710</td>\n",
       "      <td>5</td>\n",
       "      <td>0</td>\n",
       "      <td>1</td>\n",
       "    </tr>\n",
       "    <tr>\n",
       "      <th>1126</th>\n",
       "      <td>2021-03-07</td>\n",
       "      <td>Petrol</td>\n",
       "      <td>1368613968323866626</td>\n",
       "      <td>sultankhan55786</td>\n",
       "      <td>Sultan khan</td>\n",
       "      <td>Corona, unemployment, economic recession, price of petrol, price of gas and #FarmersProtests .... In the eyes of Mo… https://t.co/quaXDI3waJ</td>\n",
       "      <td></td>\n",
       "      <td>FarmersProtests</td>\n",
       "      <td>NEGATIVE</td>\n",
       "      <td>0.856710</td>\n",
       "      <td>-0.856710</td>\n",
       "      <td>5</td>\n",
       "      <td>0</td>\n",
       "      <td>1</td>\n",
       "    </tr>\n",
       "    <tr>\n",
       "      <th>1127</th>\n",
       "      <td>2021-03-07</td>\n",
       "      <td>Petrol</td>\n",
       "      <td>1368613968323866626</td>\n",
       "      <td>sultankhan55786</td>\n",
       "      <td>Sultan khan</td>\n",
       "      <td>Corona, unemployment, economic recession, price of petrol, price of gas and #FarmersProtests .... In the eyes of Mo… https://t.co/quaXDI3waJ</td>\n",
       "      <td>Hashtag</td>\n",
       "      <td>#FarmersProtests</td>\n",
       "      <td>NEGATIVE</td>\n",
       "      <td>0.856710</td>\n",
       "      <td>-0.856710</td>\n",
       "      <td>5</td>\n",
       "      <td>0</td>\n",
       "      <td>1</td>\n",
       "    </tr>\n",
       "  </tbody>\n",
       "</table>\n",
       "<p>1128 rows × 14 columns</p>\n",
       "</div>"
      ],
      "text/plain": [
       "        tweet_dt   topic  ...  reply_count retweet_count\n",
       "0     2021-03-08  Petrol  ...  0            0           \n",
       "1     2021-03-08  Petrol  ...  0            0           \n",
       "2     2021-03-08  Petrol  ...  0            0           \n",
       "3     2021-03-08  Petrol  ...  0            0           \n",
       "4     2021-03-08  Petrol  ...  0            0           \n",
       "...          ...     ...  ... ..           ..           \n",
       "1123  2021-03-07  Petrol  ...  0            0           \n",
       "1124  2021-03-07  Petrol  ...  0            0           \n",
       "1125  2021-03-07  Petrol  ...  0            1           \n",
       "1126  2021-03-07  Petrol  ...  0            1           \n",
       "1127  2021-03-07  Petrol  ...  0            1           \n",
       "\n",
       "[1128 rows x 14 columns]"
      ]
     },
     "execution_count": 17,
     "metadata": {
      "tags": []
     },
     "output_type": "execute_result"
    }
   ],
   "source": [
    "df_ner = pd.DataFrame(nerlst, columns=['tweet_dt', 'topic', 'id', 'username', 'name', 'tweet', 'tag_type', 'tag', 'sentiment', 'polarity', \n",
    "                                       'adj_polarity','like_count', 'reply_count', 'retweet_count'])\n",
    "df_ner"
   ]
  },
  {
   "cell_type": "markdown",
   "metadata": {
    "id": "ETnIczIIyN_B"
   },
   "source": [
    "Let's filter out obvious tags like #Seattle that would show up for this search. You can comment this portion out or use different Tags for your list."
   ]
  }
 ],
 "metadata": {
  "accelerator": "GPU",
  "colab": {
   "collapsed_sections": [],
   "name": "2GI17CS162_Twitter sentiment, web scraping.ipynb",
   "provenance": []
  },
  "kernelspec": {
   "display_name": "Python 3",
   "language": "python",
   "name": "python3"
  },
  "language_info": {
   "codemirror_mode": {
    "name": "ipython",
    "version": 3
   },
   "file_extension": ".py",
   "mimetype": "text/x-python",
   "name": "python",
   "nbconvert_exporter": "python",
   "pygments_lexer": "ipython3",
   "version": "3.8.3"
  }
 },
 "nbformat": 4,
 "nbformat_minor": 1
}
